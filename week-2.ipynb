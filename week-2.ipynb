{
 "cells": [
  {
   "cell_type": "code",
   "execution_count": 351,
   "metadata": {},
   "outputs": [],
   "source": [
    "import numpy as np\n",
    "import pandas as pd"
   ]
  },
  {
   "cell_type": "code",
   "execution_count": 352,
   "metadata": {},
   "outputs": [
    {
     "data": {
      "text/html": [
       "<div>\n",
       "<style scoped>\n",
       "    .dataframe tbody tr th:only-of-type {\n",
       "        vertical-align: middle;\n",
       "    }\n",
       "\n",
       "    .dataframe tbody tr th {\n",
       "        vertical-align: top;\n",
       "    }\n",
       "\n",
       "    .dataframe thead th {\n",
       "        text-align: right;\n",
       "    }\n",
       "</style>\n",
       "<table border=\"1\" class=\"dataframe\">\n",
       "  <thead>\n",
       "    <tr style=\"text-align: right;\">\n",
       "      <th></th>\n",
       "      <th>latitude</th>\n",
       "      <th>longitude</th>\n",
       "      <th>housing_median_age</th>\n",
       "      <th>total_rooms</th>\n",
       "      <th>total_bedrooms</th>\n",
       "      <th>population</th>\n",
       "      <th>households</th>\n",
       "      <th>median_income</th>\n",
       "      <th>median_house_value</th>\n",
       "    </tr>\n",
       "  </thead>\n",
       "  <tbody>\n",
       "    <tr>\n",
       "      <th>0</th>\n",
       "      <td>37.88</td>\n",
       "      <td>-122.23</td>\n",
       "      <td>41.0</td>\n",
       "      <td>880.0</td>\n",
       "      <td>129.0</td>\n",
       "      <td>322.0</td>\n",
       "      <td>126.0</td>\n",
       "      <td>8.3252</td>\n",
       "      <td>452600.0</td>\n",
       "    </tr>\n",
       "    <tr>\n",
       "      <th>1</th>\n",
       "      <td>37.86</td>\n",
       "      <td>-122.22</td>\n",
       "      <td>21.0</td>\n",
       "      <td>7099.0</td>\n",
       "      <td>1106.0</td>\n",
       "      <td>2401.0</td>\n",
       "      <td>1138.0</td>\n",
       "      <td>8.3014</td>\n",
       "      <td>358500.0</td>\n",
       "    </tr>\n",
       "    <tr>\n",
       "      <th>2</th>\n",
       "      <td>37.85</td>\n",
       "      <td>-122.24</td>\n",
       "      <td>52.0</td>\n",
       "      <td>1467.0</td>\n",
       "      <td>190.0</td>\n",
       "      <td>496.0</td>\n",
       "      <td>177.0</td>\n",
       "      <td>7.2574</td>\n",
       "      <td>352100.0</td>\n",
       "    </tr>\n",
       "    <tr>\n",
       "      <th>3</th>\n",
       "      <td>37.85</td>\n",
       "      <td>-122.25</td>\n",
       "      <td>52.0</td>\n",
       "      <td>1274.0</td>\n",
       "      <td>235.0</td>\n",
       "      <td>558.0</td>\n",
       "      <td>219.0</td>\n",
       "      <td>5.6431</td>\n",
       "      <td>341300.0</td>\n",
       "    </tr>\n",
       "    <tr>\n",
       "      <th>4</th>\n",
       "      <td>37.85</td>\n",
       "      <td>-122.25</td>\n",
       "      <td>52.0</td>\n",
       "      <td>1627.0</td>\n",
       "      <td>280.0</td>\n",
       "      <td>565.0</td>\n",
       "      <td>259.0</td>\n",
       "      <td>3.8462</td>\n",
       "      <td>342200.0</td>\n",
       "    </tr>\n",
       "  </tbody>\n",
       "</table>\n",
       "</div>"
      ],
      "text/plain": [
       "   latitude  longitude  housing_median_age  total_rooms  total_bedrooms  \\\n",
       "0     37.88    -122.23                41.0        880.0           129.0   \n",
       "1     37.86    -122.22                21.0       7099.0          1106.0   \n",
       "2     37.85    -122.24                52.0       1467.0           190.0   \n",
       "3     37.85    -122.25                52.0       1274.0           235.0   \n",
       "4     37.85    -122.25                52.0       1627.0           280.0   \n",
       "\n",
       "   population  households  median_income  median_house_value  \n",
       "0       322.0       126.0         8.3252            452600.0  \n",
       "1      2401.0      1138.0         8.3014            358500.0  \n",
       "2       496.0       177.0         7.2574            352100.0  \n",
       "3       558.0       219.0         5.6431            341300.0  \n",
       "4       565.0       259.0         3.8462            342200.0  "
      ]
     },
     "execution_count": 352,
     "metadata": {},
     "output_type": "execute_result"
    }
   ],
   "source": [
    "df = pd.read_csv('housing.csv')\n",
    "df = df[['latitude',\n",
    "'longitude',\n",
    "'housing_median_age',\n",
    "'total_rooms',\n",
    "'total_bedrooms',\n",
    "'population',\n",
    "'households',\n",
    "'median_income',\n",
    "'median_house_value']]\n",
    "df.head()"
   ]
  },
  {
   "cell_type": "code",
   "execution_count": 353,
   "metadata": {},
   "outputs": [
    {
     "data": {
      "text/plain": [
       "<AxesSubplot:xlabel='median_house_value', ylabel='Count'>"
      ]
     },
     "execution_count": 353,
     "metadata": {},
     "output_type": "execute_result"
    },
    {
     "data": {
      "image/png": "[encoded data removed]",
      "text/plain": [
       "<Figure size 640x480 with 1 Axes>"
      ]
     },
     "metadata": {},
     "output_type": "display_data"
    }
   ],
   "source": [
    "import matplotlib.pyplot as plt\n",
    "import seaborn as sns\n",
    " \n",
    "sns.histplot(df.median_house_value)"
   ]
  },
  {
   "cell_type": "markdown",
   "metadata": {},
   "source": [
    "Question 1\n",
    "Find a feature with missing values. How many missing values does it have?"
   ]
  },
  {
   "cell_type": "code",
   "execution_count": 354,
   "metadata": {},
   "outputs": [
    {
     "data": {
      "text/plain": [
       "latitude                0\n",
       "longitude               0\n",
       "housing_median_age      0\n",
       "total_rooms             0\n",
       "total_bedrooms        207\n",
       "population              0\n",
       "households              0\n",
       "median_income           0\n",
       "median_house_value      0\n",
       "dtype: int64"
      ]
     },
     "execution_count": 354,
     "metadata": {},
     "output_type": "execute_result"
    }
   ],
   "source": [
    "df.isnull().sum()"
   ]
  },
  {
   "cell_type": "markdown",
   "metadata": {},
   "source": [
    "Question 2\n",
    "What's the median (50% percentile) for variable 'population'?"
   ]
  },
  {
   "cell_type": "code",
   "execution_count": 355,
   "metadata": {},
   "outputs": [
    {
     "data": {
      "text/plain": [
       "1166.0"
      ]
     },
     "execution_count": 355,
     "metadata": {},
     "output_type": "execute_result"
    }
   ],
   "source": [
    "df['population'].median()"
   ]
  },
  {
   "cell_type": "markdown",
   "metadata": {},
   "source": [
    "Data Prep"
   ]
  },
  {
   "cell_type": "code",
   "execution_count": 356,
   "metadata": {},
   "outputs": [],
   "source": [
    "n = len(df)\n",
    "n_val = int(n*0.2)\n",
    "n_test = int(n*0.2)\n",
    "n_train = n - n_val - n_test\n",
    "\n",
    "idx = np.arange(n)\n",
    "np.random.seed(42)\n",
    "np.random.shuffle(idx)\n",
    "\n",
    "df_shuffled = df.iloc[idx]"
   ]
  },
  {
   "cell_type": "code",
   "execution_count": 357,
   "metadata": {},
   "outputs": [],
   "source": [
    "def clean_and_train(r):\n",
    "    idx = np.arange(n)\n",
    "    np.random.seed(42)\n",
    "    np.random.shuffle(idx)\n",
    "    \n",
    "    df_shuffled = df.iloc[idx]\n",
    "\n",
    "    df_train = df_shuffled.iloc[idx[n_train:]]\n",
    "    df_val = df_shuffled.iloc[idx[n_train:n_train+n_val]]\n",
    "    df_test = df_shuffled.iloc[idx[n_train+n_val:]]\n",
    "\n",
    "    y_train = np.log1p(df_train.median_house_value.values)\n",
    "    y_val = np.log1p(df_val.median_house_value.values)\n",
    "    y_test = np.log1p(df_test.median_house_value.values)\n",
    "\n",
    "    del df_test['median_house_value']\n",
    "    del df_train['median_house_value']\n",
    "    del df_val['median_house_value']\n",
    "\n",
    "    df_zero_train = df_train.copy()\n",
    "    df_zero_train['total_bedrooms'] = df_zero_train['total_bedrooms'].fillna(value = 0)\n",
    "    w_0_zero, w_zero = train_linear_regression(df_mean_train, y_train)\n",
    "\n",
    "    df_zero_val = df_val.copy()\n",
    "    df_zero_val['total_bedrooms'] = df_zero_val['total_bedrooms'].fillna(value = 0)\n",
    "\n",
    "    y_zero_pred_val = w_0_zero + df_zero_val.dot(w_zero)\n",
    "\n",
    "    return np.round(rmse(y_val, y_zero_pred_val),2)\n"
   ]
  },
  {
   "cell_type": "code",
   "execution_count": 358,
   "metadata": {},
   "outputs": [],
   "source": [
    "df_train = df_shuffled.iloc[idx[:n_train]]\n",
    "df_val = df_shuffled.iloc[idx[n_train:n_train+n_val]]\n",
    "df_test = df_shuffled.iloc[idx[n_train+n_val:]]\n",
    "\n",
    "# df_train = df_train.reset_index(drop=True)\n",
    "# df_val = df_val.reset_index(drop=True)\n",
    "# df_test = df_test.reset_index(drop=True)"
   ]
  },
  {
   "cell_type": "code",
   "execution_count": 359,
   "metadata": {},
   "outputs": [],
   "source": [
    "y_train = np.log1p(df_train.median_house_value.values)\n",
    "y_val = np.log1p(df_val.median_house_value.values)\n",
    "y_test = np.log1p(df_test.median_house_value.values)"
   ]
  },
  {
   "cell_type": "code",
   "execution_count": 360,
   "metadata": {},
   "outputs": [],
   "source": [
    "del df_test['median_house_value']\n",
    "del df_train['median_house_value']\n",
    "del df_val['median_house_value']"
   ]
  },
  {
   "cell_type": "code",
   "execution_count": 361,
   "metadata": {},
   "outputs": [],
   "source": [
    "# df['total_bedrooms'] = df['total_bedrooms'].fillna(0)"
   ]
  },
  {
   "cell_type": "code",
   "execution_count": 362,
   "metadata": {},
   "outputs": [],
   "source": [
    "def train_linear_regression(X, y):\n",
    "    ones = np.ones(X.shape[0])\n",
    "    X = np.column_stack([ones, X])\n",
    "\n",
    "    XTX = X.T.dot(X)\n",
    "    XTX_inv = np.linalg.inv(XTX)\n",
    "    w = XTX_inv.dot(X.T).dot(y)\n",
    "    \n",
    "    return w[0], w[1:]\n"
   ]
  },
  {
   "cell_type": "code",
   "execution_count": 363,
   "metadata": {},
   "outputs": [],
   "source": [
    "def rmse(y, y_pred):\n",
    "    error = y_pred - y\n",
    "    mse = (error ** 2).mean()\n",
    "    return np.sqrt(mse)"
   ]
  },
  {
   "cell_type": "code",
   "execution_count": 364,
   "metadata": {},
   "outputs": [
    {
     "data": {
      "text/plain": [
       "0.34"
      ]
     },
     "execution_count": 364,
     "metadata": {},
     "output_type": "execute_result"
    }
   ],
   "source": [
    "mean = df_train.total_bedrooms.mean()\n",
    "\n",
    "df_mean_train = df_train.copy()\n",
    "df_mean_train['total_bedrooms'] = df_mean_train['total_bedrooms'].fillna(value = mean)\n",
    "w_0_mean, w_mean = train_linear_regression(df_mean_train, y_train)\n",
    "\n",
    "df_mean_val = df_val.copy()\n",
    "df_mean_val['total_bedrooms'] = df_mean_val['total_bedrooms'].fillna(value = mean)\n",
    "\n",
    "y_mean_pred_val = w_0_mean + df_mean_val.dot(w_mean)\n",
    "\n",
    "np.round(rmse(y_val, y_mean_pred_val),2)\n",
    "\n"
   ]
  },
  {
   "cell_type": "code",
   "execution_count": 365,
   "metadata": {},
   "outputs": [
    {
     "data": {
      "text/plain": [
       "0.34"
      ]
     },
     "execution_count": 365,
     "metadata": {},
     "output_type": "execute_result"
    }
   ],
   "source": [
    "\n",
    "df_zero_train = df_train.copy()\n",
    "df_zero_train['total_bedrooms'] = df_zero_train['total_bedrooms'].fillna(value = 0)\n",
    "w_0_zero, w_zero = train_linear_regression(df_mean_train, y_train)\n",
    "\n",
    "df_zero_val = df_val.copy()\n",
    "df_zero_val['total_bedrooms'] = df_zero_val['total_bedrooms'].fillna(value = 0)\n",
    "\n",
    "y_zero_pred_val = w_0_zero + df_zero_val.dot(w_zero)\n",
    "\n",
    "np.round(rmse(y_val, y_zero_pred_val),2)"
   ]
  },
  {
   "cell_type": "markdown",
   "metadata": {},
   "source": [
    "Question 4"
   ]
  },
  {
   "cell_type": "code",
   "execution_count": 366,
   "metadata": {},
   "outputs": [],
   "source": [
    "def train_linear_regression_reg(X, y, r=0.0):\n",
    "    ones = np.ones(X.shape[0])\n",
    "    X = np.column_stack([ones, X])\n",
    "\n",
    "    XTX = X.T.dot(X)\n",
    "    reg = r * np.eye(XTX.shape[0])\n",
    "    XTX = XTX + reg\n",
    "\n",
    "    XTX_inv = np.linalg.inv(XTX)\n",
    "    w = XTX_inv.dot(X.T).dot(y)\n",
    "    \n",
    "    return w[0], w[1:]"
   ]
  },
  {
   "cell_type": "code",
   "execution_count": 367,
   "metadata": {},
   "outputs": [
    {
     "name": "stdout",
     "output_type": "stream",
     "text": [
      "0 -11.656344589478822 0.34\n",
      "1e-06 -11.656328700279206 0.34\n",
      "0.0001 -11.654755895147064 0.34\n",
      "0.001 -11.640477103523434 0.34\n",
      "0.01 -11.499589722571592 0.34\n",
      "0.1 -10.257998426829026 0.34\n",
      "1 -4.931613572697172 0.35\n",
      "5 -1.489184857529709 0.35\n",
      "10 -0.7941313736526514 0.35\n"
     ]
    }
   ],
   "source": [
    "for r in [0, 0.000001, 0.0001, 0.001, 0.01, 0.1, 1, 5, 10]:\n",
    "    w_0, w = train_linear_regression_reg(df_zero_train, y_train, r=r)\n",
    "    y_null_reg_val = w_0 + df_zero_val.dot(w)\n",
    "    rmse_val = np.round(rmse(y_val, y_null_reg_val),2)\n",
    "    print(r, w_0, rmse_val)"
   ]
  },
  {
   "cell_type": "markdown",
   "metadata": {},
   "source": [
    "Question 5"
   ]
  },
  {
   "cell_type": "code",
   "execution_count": 368,
   "metadata": {},
   "outputs": [
    {
     "name": "stdout",
     "output_type": "stream",
     "text": [
      "0 -11.900382138250363 0.34\n",
      "1 -11.732757373224729 0.34\n",
      "2 -11.806729360928998 0.33\n",
      "3 -11.587900347706451 0.34\n",
      "4 -11.389470588473802 0.34\n",
      "5 -11.447114275993977 0.34\n",
      "6 -11.370516351690585 0.35\n",
      "7 -12.473448918447502 0.34\n",
      "8 -11.800287429301962 0.35\n",
      "9 -11.45904683062324 0.34\n"
     ]
    },
    {
     "data": {
      "text/plain": [
       "0.005"
      ]
     },
     "execution_count": 368,
     "metadata": {},
     "output_type": "execute_result"
    }
   ],
   "source": [
    "rmse_list = []\n",
    "\n",
    "for r in [0, 1, 2, 3, 4, 5, 6, 7, 8, 9]:\n",
    "        idx = np.arange(n)\n",
    "        np.random.seed(r)\n",
    "        np.random.shuffle(idx)\n",
    "        \n",
    "        df_shuffled = df.iloc[idx]\n",
    "\n",
    "        df_train = df_shuffled.iloc[:n_train].copy()\n",
    "        df_val = df_shuffled.iloc[n_train:n_train+n_val].copy()\n",
    "        df_test = df_shuffled.iloc[n_train+n_val:].copy()\n",
    "\n",
    "        df_train = df_train.reset_index(drop=True)\n",
    "        df_val = df_val.reset_index(drop=True)\n",
    "        df_test = df_test.reset_index(drop=True)\n",
    "\n",
    "        y_train = np.log1p(df_train.median_house_value.values)\n",
    "        y_val = np.log1p(df_val.median_house_value.values)\n",
    "        y_test = np.log1p(df_test.median_house_value.values)\n",
    "\n",
    "        del df_test['median_house_value']\n",
    "        del df_train['median_house_value']\n",
    "        del df_val['median_house_value']\n",
    "\n",
    "        df_zero_train = df_train.copy()\n",
    "        df_zero_train['total_bedrooms'] = df_zero_train['total_bedrooms'].fillna(value = 0)\n",
    "        w_0_zero, w_zero = train_linear_regression(df_zero_train, y_train)\n",
    "\n",
    "        df_zero_val = df_val.copy()\n",
    "        df_zero_val['total_bedrooms'] = df_zero_val['total_bedrooms'].fillna(value = 0)\n",
    "\n",
    "        y_zero_pred_val = w_0_zero + df_zero_val.dot(w_zero)\n",
    "\n",
    "        rmse_result =  np.round(rmse(y_val, y_zero_pred_val),2)\n",
    "        rmse_list.append(rmse_result)\n",
    "        print(r,w_0_zero, rmse_result)\n",
    "\n",
    "np.round(np.std(rmse_list),3)"
   ]
  },
  {
   "cell_type": "markdown",
   "metadata": {},
   "source": [
    "Question 6"
   ]
  },
  {
   "cell_type": "code",
   "execution_count": 369,
   "metadata": {},
   "outputs": [
    {
     "name": "stdout",
     "output_type": "stream",
     "text": [
      "0.34\n"
     ]
    }
   ],
   "source": [
    "idx = np.arange(n)\n",
    "np.random.seed(9)\n",
    "np.random.shuffle(idx)\n",
    "\n",
    "df_shuffled = df.iloc[idx]\n",
    "\n",
    "df_train = df_shuffled.iloc[:n_train].copy()\n",
    "df_val = df_shuffled.iloc[n_train:n_train+n_val].copy()\n",
    "df_test = df_shuffled.iloc[n_train+n_val:].copy()\n",
    "\n",
    "df_train = df_train.reset_index(drop=True)\n",
    "df_val = df_val.reset_index(drop=True)\n",
    "df_test = df_test.reset_index(drop=True)\n",
    "\n",
    "y_train = np.log1p(df_train.median_house_value.values)\n",
    "y_val = np.log1p(df_val.median_house_value.values)\n",
    "y_test = np.log1p(df_test.median_house_value.values)\n",
    "\n",
    "del df_test['median_house_value']\n",
    "del df_train['median_house_value']\n",
    "del df_val['median_house_value']\n",
    "\n",
    "df_zero_train = df_train.copy()\n",
    "df_zero_train['total_bedrooms'] = df_zero_train['total_bedrooms'].fillna(value = 0)\n",
    "w_0_zero, w_zero = train_linear_regression_reg(df_zero_train, y_train, r=0.001)\n",
    "\n",
    "df_zero_val = df_val.copy()\n",
    "df_zero_val['total_bedrooms'] = df_zero_val['total_bedrooms'].fillna(value = 0)\n",
    "\n",
    "y_zero_pred_val = w_0_zero + df_zero_val.dot(w_zero)\n",
    "\n",
    "rmse_result =  np.round(rmse(y_val, y_zero_pred_val),2)\n",
    "print(rmse_result)"
   ]
  }
 ],
 "metadata": {
  "kernelspec": {
   "display_name": "Python 3.9.12 ('base')",
   "language": "python",
   "name": "python3"
  },
  "language_info": {
   "codemirror_mode": {
    "name": "ipython",
    "version": 3
   },
   "file_extension": ".py",
   "mimetype": "text/x-python",
   "name": "python",
   "nbconvert_exporter": "python",
   "pygments_lexer": "ipython3",
   "version": "3.9.12"
  },
  "orig_nbformat": 4,
  "vscode": {
   "interpreter": {
    "hash": "a0a4c0b61a443a391d9b49b3b27d1869f2ee1e5bca8d03917275389d01777cee"
   }
  }
 },
 "nbformat": 4,
 "nbformat_minor": 2
}
